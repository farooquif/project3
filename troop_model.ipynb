{
 "cells": [
  {
   "cell_type": "code",
   "execution_count": 2,
   "metadata": {},
   "outputs": [],
   "source": [
    "import pandas as pd\n",
    "from sklearn.tree import DecisionTreeClassifier\n",
    "from sklearn.preprocessing import OneHotEncoder\n",
    "from sklearn.model_selection import train_test_split"
   ]
  },
  {
   "cell_type": "code",
   "execution_count": 11,
   "metadata": {},
   "outputs": [],
   "source": [
    "import seaborn as sns\n",
    "import matplotlib.pyplot as plt"
   ]
  },
  {
   "cell_type": "code",
   "execution_count": 3,
   "metadata": {},
   "outputs": [],
   "source": [
    "troop_df = pd.read_csv(\"troop_movements.csv\")"
   ]
  },
  {
   "cell_type": "code",
   "execution_count": null,
   "metadata": {},
   "outputs": [],
   "source": []
  },
  {
   "cell_type": "code",
   "execution_count": 6,
   "metadata": {},
   "outputs": [
    {
     "data": {
      "text/html": [
       "<div>\n",
       "<style scoped>\n",
       "    .dataframe tbody tr th:only-of-type {\n",
       "        vertical-align: middle;\n",
       "    }\n",
       "\n",
       "    .dataframe tbody tr th {\n",
       "        vertical-align: top;\n",
       "    }\n",
       "\n",
       "    .dataframe thead th {\n",
       "        text-align: right;\n",
       "    }\n",
       "</style>\n",
       "<table border=\"1\" class=\"dataframe\">\n",
       "  <thead>\n",
       "    <tr style=\"text-align: right;\">\n",
       "      <th></th>\n",
       "      <th>timestamp</th>\n",
       "      <th>unit_id</th>\n",
       "      <th>unit_type</th>\n",
       "      <th>empire_or_resistance</th>\n",
       "      <th>location_x</th>\n",
       "      <th>location_y</th>\n",
       "      <th>destination_x</th>\n",
       "      <th>destination_y</th>\n",
       "      <th>homeworld</th>\n",
       "    </tr>\n",
       "  </thead>\n",
       "  <tbody>\n",
       "    <tr>\n",
       "      <th>0</th>\n",
       "      <td>2025-07-09 08:39:17</td>\n",
       "      <td>1</td>\n",
       "      <td>resistance_soldier</td>\n",
       "      <td>empire</td>\n",
       "      <td>9</td>\n",
       "      <td>4</td>\n",
       "      <td>5</td>\n",
       "      <td>6</td>\n",
       "      <td>Champala</td>\n",
       "    </tr>\n",
       "    <tr>\n",
       "      <th>1</th>\n",
       "      <td>2025-07-09 08:39:16</td>\n",
       "      <td>2</td>\n",
       "      <td>stormtrooper</td>\n",
       "      <td>resistance</td>\n",
       "      <td>1</td>\n",
       "      <td>2</td>\n",
       "      <td>9</td>\n",
       "      <td>2</td>\n",
       "      <td>Bestine IV</td>\n",
       "    </tr>\n",
       "    <tr>\n",
       "      <th>2</th>\n",
       "      <td>2025-07-09 08:39:15</td>\n",
       "      <td>3</td>\n",
       "      <td>unknown</td>\n",
       "      <td>resistance</td>\n",
       "      <td>10</td>\n",
       "      <td>1</td>\n",
       "      <td>1</td>\n",
       "      <td>2</td>\n",
       "      <td>Malastare</td>\n",
       "    </tr>\n",
       "    <tr>\n",
       "      <th>3</th>\n",
       "      <td>2025-07-09 08:39:14</td>\n",
       "      <td>4</td>\n",
       "      <td>at-st</td>\n",
       "      <td>empire</td>\n",
       "      <td>2</td>\n",
       "      <td>5</td>\n",
       "      <td>4</td>\n",
       "      <td>1</td>\n",
       "      <td>Ojom</td>\n",
       "    </tr>\n",
       "    <tr>\n",
       "      <th>4</th>\n",
       "      <td>2025-07-09 08:39:13</td>\n",
       "      <td>5</td>\n",
       "      <td>unknown</td>\n",
       "      <td>resistance</td>\n",
       "      <td>5</td>\n",
       "      <td>7</td>\n",
       "      <td>7</td>\n",
       "      <td>5</td>\n",
       "      <td>Socorro</td>\n",
       "    </tr>\n",
       "  </tbody>\n",
       "</table>\n",
       "</div>"
      ],
      "text/plain": [
       "             timestamp  unit_id           unit_type empire_or_resistance  \\\n",
       "0  2025-07-09 08:39:17        1  resistance_soldier               empire   \n",
       "1  2025-07-09 08:39:16        2        stormtrooper           resistance   \n",
       "2  2025-07-09 08:39:15        3             unknown           resistance   \n",
       "3  2025-07-09 08:39:14        4               at-st               empire   \n",
       "4  2025-07-09 08:39:13        5             unknown           resistance   \n",
       "\n",
       "   location_x  location_y  destination_x  destination_y   homeworld  \n",
       "0           9           4              5              6    Champala  \n",
       "1           1           2              9              2  Bestine IV  \n",
       "2          10           1              1              2   Malastare  \n",
       "3           2           5              4              1        Ojom  \n",
       "4           5           7              7              5     Socorro  "
      ]
     },
     "execution_count": 6,
     "metadata": {},
     "output_type": "execute_result"
    }
   ],
   "source": [
    "troop_df.head()"
   ]
  },
  {
   "cell_type": "code",
   "execution_count": 7,
   "metadata": {},
   "outputs": [
    {
     "data": {
      "text/plain": [
       "Index(['timestamp', 'unit_id', 'unit_type', 'empire_or_resistance',\n",
       "       'location_x', 'location_y', 'destination_x', 'destination_y',\n",
       "       'homeworld'],\n",
       "      dtype='object')"
      ]
     },
     "execution_count": 7,
     "metadata": {},
     "output_type": "execute_result"
    }
   ],
   "source": [
    "troop_df.columns"
   ]
  },
  {
   "cell_type": "code",
   "execution_count": 16,
   "metadata": {},
   "outputs": [
    {
     "name": "stderr",
     "output_type": "stream",
     "text": [
      "C:\\Users\\wasadmin\\AppData\\Local\\Temp\\2\\ipykernel_10704\\50904319.py:7: FutureWarning: \n",
      "\n",
      "Passing `palette` without assigning `hue` is deprecated and will be removed in v0.14.0. Assign the `x` variable to `hue` and set `legend=False` for the same effect.\n",
      "\n",
      "  sns.countplot(x='empire_or_resistance', data=troop_df,palette=colors)\n"
     ]
    },
    {
     "data": {
      "image/png": "[encoded data removed]",
      "text/plain": [
       "<Figure size 640x480 with 1 Axes>"
      ]
     },
     "metadata": {},
     "output_type": "display_data"
    }
   ],
   "source": [
    "colors = {\n",
    "    'resistance': '#1f77b4',  \n",
    "    'empire': '#FFD700'       \n",
    "}\n",
    "\n",
    "\n",
    "sns.countplot(x='empire_or_resistance', data=troop_df,palette=colors)\n",
    "plt.title('Character count by Empire or Resistance')\n",
    "plt.xlabel('Affiliation')\n",
    "plt.ylabel('Count')\n",
    "plt.savefig('affiliation_chart.png')\n",
    "plt.show()\n",
    "\n",
    "\n"
   ]
  },
  {
   "cell_type": "code",
   "execution_count": 10,
   "metadata": {},
   "outputs": [
    {
     "data": {
      "text/plain": [
       "(       homeworld           unit_type\n",
       " 0       Champala  resistance_soldier\n",
       " 1     Bestine IV        stormtrooper\n",
       " 2      Malastare             unknown\n",
       " 3           Ojom               at-st\n",
       " 4        Socorro             unknown\n",
       " ..           ...                 ...\n",
       " 995  Aleen Minor        stormtrooper\n",
       " 996        Kalee         tie_fighter\n",
       " 997    Chandrila  resistance_soldier\n",
       " 998      Stewjon               at-st\n",
       " 999     Kashyyyk               at-st\n",
       " \n",
       " [1000 rows x 2 columns],\n",
       " 0          empire\n",
       " 1      resistance\n",
       " 2      resistance\n",
       " 3          empire\n",
       " 4      resistance\n",
       "           ...    \n",
       " 995    resistance\n",
       " 996        empire\n",
       " 997    resistance\n",
       " 998        empire\n",
       " 999    resistance\n",
       " Name: empire_or_resistance, Length: 1000, dtype: object)"
      ]
     },
     "execution_count": 10,
     "metadata": {},
     "output_type": "execute_result"
    }
   ],
   "source": [
    "X = troop_df[['homeworld', 'unit_type']]\n",
    "y = troop_df['empire_or_resistance']\n",
    "X,y"
   ]
  },
  {
   "cell_type": "code",
   "execution_count": null,
   "metadata": {},
   "outputs": [],
   "source": []
  }
 ],
 "metadata": {
  "kernelspec": {
   "display_name": "Python 3",
   "language": "python",
   "name": "python3"
  },
  "language_info": {
   "codemirror_mode": {
    "name": "ipython",
    "version": 3
   },
   "file_extension": ".py",
   "mimetype": "text/x-python",
   "name": "python",
   "nbconvert_exporter": "python",
   "pygments_lexer": "ipython3",
   "version": "3.12.3"
  }
 },
 "nbformat": 4,
 "nbformat_minor": 2
}
